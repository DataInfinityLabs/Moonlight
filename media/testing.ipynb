{
 "cells": [
  {
   "cell_type": "code",
   "execution_count": 1,
   "metadata": {},
   "outputs": [],
   "source": [
    "from paddleocr import PaddleOCR, draw_ocr # main OCR dependencies\n",
    "from matplotlib import pyplot as plt # plot images\n",
    "import cv2 #opencv\n",
    "import os"
   ]
  },
  {
   "cell_type": "code",
   "execution_count": 8,
   "metadata": {},
   "outputs": [],
   "source": [
    "\n",
    "class PaddleModel:\n",
    "    \n",
    "    def __init__(self, path):\n",
    "        \n",
    "        print(\"heloooooooooooooooooooooooooooooo         ;jlknfvdnbkgvrekjgvdfbvk.jdsfbnvkjdfsbngk\")\n",
    "        self.ocr_model = PaddleOCR(lang='en')\n",
    "        \n",
    "        self.path = path\n",
    "    \n",
    "    \n",
    "    def saveRes(self):\n",
    "        \n",
    "        \n",
    "        result = self.ocr_model.ocr(self.path)\n",
    "        \n",
    "        # for i in result[0]:\n",
    "        #     print(i[1][0])\n",
    "        \n",
    "        print(\"##################################################################################################################################\")\n",
    "        print(result[0])\n",
    "        \n",
    "        boxes = [res[0] for res in result[0]] # \n",
    "        texts = [res[1][0] for res in result[0]]\n",
    "        scores = [res[1][1] for res in result[0]]\n",
    "        \n",
    "        font_path = \"Fonts/LATIN.ttf\"\n",
    "        print(font_path)\n",
    "        \n",
    "        img = cv2.imread(self.path) \n",
    "        img = cv2.cvtColor(img, cv2.COLOR_BGR2RGB) \n",
    "        \n",
    "        plt.figure(figsize=(15,15))\n",
    "\n",
    "        annotated = draw_ocr(img, boxes, texts, scores, font_path=font_path) \n",
    "        \n",
    "        # plt.imshow(annotated)\n",
    "        \n",
    "        cv2.imwrite(\"image.jpg\", annotated)"
   ]
  },
  {
   "cell_type": "code",
   "execution_count": 9,
   "metadata": {},
   "outputs": [
    {
     "name": "stdout",
     "output_type": "stream",
     "text": [
      "heloooooooooooooooooooooooooooooo         ;jlknfvdnbkgvrekjgvdfbvk.jdsfbnvkjdfsbngk\n",
      "[2023/04/18 16:58:20] ppocr DEBUG: Namespace(help='==SUPPRESS==', use_gpu=False, use_xpu=False, use_npu=False, ir_optim=True, use_tensorrt=False, min_subgraph_size=15, precision='fp32', gpu_mem=500, image_dir=None, page_num=0, det_algorithm='DB', det_model_dir='/home/satish/.paddleocr/whl/det/en/en_PP-OCRv3_det_infer', det_limit_side_len=960, det_limit_type='max', det_box_type='quad', det_db_thresh=0.3, det_db_box_thresh=0.6, det_db_unclip_ratio=1.5, max_batch_size=10, use_dilation=False, det_db_score_mode='fast', det_east_score_thresh=0.8, det_east_cover_thresh=0.1, det_east_nms_thresh=0.2, det_sast_score_thresh=0.5, det_sast_nms_thresh=0.2, det_pse_thresh=0, det_pse_box_thresh=0.85, det_pse_min_area=16, det_pse_scale=1, scales=[8, 16, 32], alpha=1.0, beta=1.0, fourier_degree=5, rec_algorithm='SVTR_LCNet', rec_model_dir='/home/satish/.paddleocr/whl/rec/en/en_PP-OCRv3_rec_infer', rec_image_inverse=True, rec_image_shape='3, 48, 320', rec_batch_num=6, max_text_length=25, rec_char_dict_path='/home/satish/anaconda3/lib/python3.9/site-packages/paddleocr/ppocr/utils/en_dict.txt', use_space_char=True, vis_font_path='./doc/fonts/simfang.ttf', drop_score=0.5, e2e_algorithm='PGNet', e2e_model_dir=None, e2e_limit_side_len=768, e2e_limit_type='max', e2e_pgnet_score_thresh=0.5, e2e_char_dict_path='./ppocr/utils/ic15_dict.txt', e2e_pgnet_valid_set='totaltext', e2e_pgnet_mode='fast', use_angle_cls=False, cls_model_dir='/home/satish/.paddleocr/whl/cls/ch_ppocr_mobile_v2.0_cls_infer', cls_image_shape='3, 48, 192', label_list=['0', '180'], cls_batch_num=6, cls_thresh=0.9, enable_mkldnn=False, cpu_threads=10, use_pdserving=False, warmup=False, sr_model_dir=None, sr_image_shape='3, 32, 128', sr_batch_num=1, draw_img_save_dir='./inference_results', save_crop_res=False, crop_res_save_dir='./output', use_mp=False, total_process_num=1, process_id=0, benchmark=False, save_log_path='./log_output/', show_log=True, use_onnx=False, output='./output', table_max_len=488, table_algorithm='TableAttn', table_model_dir=None, merge_no_span_structure=True, table_char_dict_path=None, layout_model_dir=None, layout_dict_path=None, layout_score_threshold=0.5, layout_nms_threshold=0.5, kie_algorithm='LayoutXLM', ser_model_dir=None, re_model_dir=None, use_visual_backbone=True, ser_dict_path='../train_data/XFUND/class_list_xfun.txt', ocr_order_method=None, mode='structure', image_orientation=False, layout=True, table=True, ocr=True, recovery=False, use_pdf2docx_api=False, lang='en', det=True, rec=True, type='ocr', ocr_version='PP-OCRv3', structure_version='PP-StructureV2')\n",
      "[2023/04/18 16:58:21] ppocr WARNING: Since the angle classifier is not initialized, the angle classifier will not be uesd during the forward process\n",
      "[2023/04/18 16:58:22] ppocr DEBUG: dt_boxes num : 4, elapse : 1.144453525543213\n",
      "[2023/04/18 16:58:23] ppocr DEBUG: rec_res num  : 4, elapse : 0.7668251991271973\n",
      "##################################################################################################################################\n",
      "[[[[193.0, 48.0], [405.0, 48.0], [405.0, 90.0], [193.0, 90.0]], ('12:26  ', 0.9102667570114136)], [[[783.0, 52.0], [986.0, 52.0], [986.0, 88.0], [783.0, 88.0]], ('4G 37%', 0.9655631184577942)], [[[203.0, 1251.0], [404.0, 1274.0], [399.0, 1319.0], [199.0, 1296.0]], ('TN38 AJ 0690', 0.9610247611999512)]]\n",
      "Fonts/LATIN.ttf\n"
     ]
    },
    {
     "data": {
      "text/plain": [
       "<Figure size 1500x1500 with 0 Axes>"
      ]
     },
     "metadata": {},
     "output_type": "display_data"
    }
   ],
   "source": [
    "ob = PaddleModel(\"media/test5.png\")\n",
    "ob.saveRes()"
   ]
  },
  {
   "cell_type": "code",
   "execution_count": null,
   "metadata": {},
   "outputs": [],
   "source": []
  },
  {
   "cell_type": "code",
   "execution_count": null,
   "metadata": {},
   "outputs": [],
   "source": []
  }
 ],
 "metadata": {
  "kernelspec": {
   "display_name": "base",
   "language": "python",
   "name": "python3"
  },
  "language_info": {
   "codemirror_mode": {
    "name": "ipython",
    "version": 3
   },
   "file_extension": ".py",
   "mimetype": "text/x-python",
   "name": "python",
   "nbconvert_exporter": "python",
   "pygments_lexer": "ipython3",
   "version": "3.9.13"
  },
  "orig_nbformat": 4
 },
 "nbformat": 4,
 "nbformat_minor": 2
}
